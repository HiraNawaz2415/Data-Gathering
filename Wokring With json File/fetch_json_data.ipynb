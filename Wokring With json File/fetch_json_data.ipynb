{
 "metadata": {
  "language_info": {
   "codemirror_mode": {
    "name": "ipython",
    "version": 3
   },
   "file_extension": ".py",
   "mimetype": "text/x-python",
   "name": "python",
   "nbconvert_exporter": "python",
   "pygments_lexer": "ipython3",
   "version": "3.12.2-final"
  },
  "orig_nbformat": 2,
  "kernelspec": {
   "name": "python3",
   "display_name": "Python 3.12.2 64-bit ('venv2')",
   "metadata": {
    "interpreter": {
     "hash": "03487c50d935b3e404dd753985c7279e44fb229f54955b1da4b4970915666a9f"
    }
   }
  }
 },
 "nbformat": 4,
 "nbformat_minor": 2,
 "cells": [
  {
   "source": [
    "# What Is a JSON File?\n",
    "JSON (JavaScript Object Notation) is a text format for storing structured data, like dictionaries or lists."
   ],
   "cell_type": "markdown",
   "metadata": {}
  },
  {
   "cell_type": "code",
   "execution_count": 6,
   "metadata": {},
   "outputs": [],
   "source": [
    "import json\n",
    "\n",
    "# Sample data\n",
    "data = [\n",
    "    {\"name\": \"Ali\", \"age\": 25, \"city\": \"Lahore\"},\n",
    "    {\"name\": \"Sara\", \"age\": 22, \"city\": \"Karachi\"}\n",
    "]\n",
    "\n",
    "# Write to JSON file\n",
    "with open(\"employees.json\", \"w\") as f:\n",
    "    json.dump(data, f, indent=4)\n",
    "\n"
   ]
  },
  {
   "cell_type": "code",
   "execution_count": 7,
   "metadata": {},
   "outputs": [
    {
     "output_type": "stream",
     "name": "stdout",
     "text": [
      "[{'name': 'Ali', 'age': 25, 'city': 'Lahore'}, {'name': 'Sara', 'age': 22, 'city': 'Karachi'}]\n"
     ]
    }
   ],
   "source": [
    "with open(\"employees.json\", \"r\") as f:\n",
    "    content = json.load(f)\n",
    "    print(content)\n",
    "\n"
   ]
  },
  {
   "cell_type": "code",
   "execution_count": 9,
   "metadata": {},
   "outputs": [
    {
     "output_type": "stream",
     "name": "stdout",
     "text": [
      "   name  age     city\n0   Ali   25   Lahore\n1  Sara   22  Karachi\n"
     ]
    }
   ],
   "source": [
    "import pandas as pd\n",
    "\n",
    "df = pd.read_json(\"employees.json\", orient=\"columns\")\n",
    "print(df)\n"
   ]
  },
  {
   "cell_type": "code",
   "execution_count": 11,
   "metadata": {},
   "outputs": [
    {
     "output_type": "execute_result",
     "data": {
      "text/plain": [
       "0      {'name': 'Ali', 'age': 25, 'city': 'Lahore'}\n",
       "1    {'name': 'Sara', 'age': 22, 'city': 'Karachi'}\n",
       "dtype: object"
      ]
     },
     "metadata": {},
     "execution_count": 11
    }
   ],
   "source": [
    "df = pd.read_json(\"employees.json\", typ=\"series\")\n",
    "df"
   ]
  },
  {
   "cell_type": "code",
   "execution_count": 12,
   "metadata": {},
   "outputs": [
    {
     "output_type": "stream",
     "name": "stdout",
     "text": [
      "Ali      25\nSara     30\nUsman    27\ndtype: int64\n"
     ]
    }
   ],
   "source": [
    "import pandas as pd\n",
    "\n",
    "# Example dictionary to be stored in JSON\n",
    "data = {\n",
    "    \"Ali\": 25,\n",
    "    \"Sara\": 30,\n",
    "    \"Usman\": 27\n",
    "}\n",
    "\n",
    "# Convert to Series and save as JSON\n",
    "s = pd.Series(data)\n",
    "s.to_json(\"empl.json\")\n",
    "\n",
    "# Now read it back\n",
    "df = pd.read_json(\"empl.json\", typ=\"series\")\n",
    "print(df)\n"
   ]
  },
  {
   "cell_type": "code",
   "execution_count": 13,
   "metadata": {},
   "outputs": [
    {
     "output_type": "stream",
     "name": "stdout",
     "text": [
      "      value\n0  0.123457\n1  0.246914\n2  0.370370\n"
     ]
    }
   ],
   "source": [
    "import pandas as pd\n",
    "\n",
    "df = pd.read_json(\"float_data.json\", precise_float=True)\n",
    "print(df)\n",
    "\n"
   ]
  },
  {
   "cell_type": "code",
   "execution_count": 14,
   "metadata": {},
   "outputs": [
    {
     "output_type": "stream",
     "name": "stdout",
     "text": [
      "   id        name    salary\n0   0  Employee_0  30000.00\n1   1  Employee_1  30010.12\n2   2  Employee_2  30020.25\n3   3  Employee_3  30030.37\n4   4  Employee_4  30040.49\n==================================================\n        id           name    salary\n1000  1000  Employee_1000  40123.00\n1001  1001  Employee_1001  40133.12\n1002  1002  Employee_1002  40143.25\n1003  1003  Employee_1003  40153.37\n1004  1004  Employee_1004  40163.49\n==================================================\n        id           name    salary\n2000  2000  Employee_2000  50246.00\n2001  2001  Employee_2001  50256.12\n2002  2002  Employee_2002  50266.25\n2003  2003  Employee_2003  50276.37\n2004  2004  Employee_2004  50286.49\n==================================================\n        id           name    salary\n3000  3000  Employee_3000  60369.00\n3001  3001  Employee_3001  60379.12\n3002  3002  Employee_3002  60389.25\n3003  3003  Employee_3003  60399.37\n3004  3004  Employee_3004  60409.49\n==================================================\n        id           name    salary\n4000  4000  Employee_4000  70492.00\n4001  4001  Employee_4001  70502.12\n4002  4002  Employee_4002  70512.25\n4003  4003  Employee_4003  70522.37\n4004  4004  Employee_4004  70532.49\n==================================================\n"
     ]
    }
   ],
   "source": [
    "import pandas as pd\n",
    "\n",
    "for chunk in pd.read_json(\"bigfile.json\", lines=True, chunksize=1000):\n",
    "    print(chunk.head())\n",
    "    print(\"=\"*50)\n"
   ]
  },
  {
   "cell_type": "code",
   "execution_count": 15,
   "metadata": {},
   "outputs": [
    {
     "output_type": "stream",
     "name": "stdout",
     "text": [
      "   userId  id                                              title  \\\n0       1   1  sunt aut facere repellat provident occaecati e...   \n1       1   2                                       qui est esse   \n2       1   3  ea molestias quasi exercitationem repellat qui...   \n3       1   4                               eum et est occaecati   \n4       1   5                                 nesciunt quas odio   \n\n                                                body  \n0  quia et suscipit\\nsuscipit recusandae consequu...  \n1  est rerum tempore vitae\\nsequi sint nihil repr...  \n2  et iusto sed quo iure\\nvoluptatem occaecati om...  \n3  ullam et saepe reiciendis voluptatem adipisci\\...  \n4  repudiandae veniam quaerat sunt sed\\nalias aut...  \n"
     ]
    }
   ],
   "source": [
    "import pandas as pd\n",
    "\n",
    "# Example JSON data from a public API (posts)\n",
    "url = \"https://jsonplaceholder.typicode.com/posts\"\n",
    "\n",
    "df = pd.read_json(url)\n",
    "print(df.head())\n"
   ]
  },
  {
   "cell_type": "code",
   "execution_count": 20,
   "metadata": {},
   "outputs": [],
   "source": [
    "import pandas as pd\n",
    "\n",
    "data = [\n",
    "    {\"id\": 1, \"name\": \"Alice\", \"score\": 95.5},\n",
    "    {\"id\": 2, \"name\": \"Bob\", \"score\": 88.0},\n",
    "    {\"id\": 3, \"name\": \"Charlie\", \"score\": 79.3}\n",
    "]\n",
    "\n",
    "df = pd.DataFrame(data)\n",
    "\n",
    "# Save as plain JSON\n",
    "df.to_json(\"students.json\", orient=\"records\", lines=True)\n",
    "\n"
   ]
  },
  {
   "cell_type": "code",
   "execution_count": 21,
   "metadata": {},
   "outputs": [],
   "source": [
    "# GZIP format\n",
    "df.to_json(\"students.json.gz\", orient=\"records\", lines=True, compression=\"gzip\")\n",
    "\n",
    "# BZIP2 format\n",
    "df.to_json(\"students.json.bz2\", orient=\"records\", lines=True, compression=\"bz2\")\n",
    "\n",
    "# ZIP format (pandas only supports single file in zip)\n",
    "df.to_json(\"students.json.zip\", orient=\"records\", lines=True, compression=\"zip\")\n",
    "\n",
    "# XZ format\n",
    "df.to_json(\"students.json.xz\", orient=\"records\", lines=True, compression=\"xz\")\n"
   ]
  },
  {
   "cell_type": "code",
   "execution_count": 22,
   "metadata": {},
   "outputs": [],
   "source": [
    "# Read gzip\n",
    "df_gz = pd.read_json(\"students.json.gz\", compression=\"gzip\", lines=True)\n",
    "\n",
    "# Read bz2\n",
    "df_bz2 = pd.read_json(\"students.json.bz2\", compression=\"bz2\", lines=True)\n",
    "\n",
    "# Read zip\n",
    "df_zip = pd.read_json(\"students.json.zip\", compression=\"zip\", lines=True)\n",
    "\n",
    "# Read xz\n",
    "df_xz = pd.read_json(\"students.json.xz\", compression=\"xz\", lines=True)\n"
   ]
  },
  {
   "cell_type": "code",
   "execution_count": 23,
   "metadata": {},
   "outputs": [
    {
     "output_type": "execute_result",
     "data": {
      "text/plain": [
       "   id     name  score\n",
       "0   1    Alice   95.5\n",
       "1   2      Bob   88.0\n",
       "2   3  Charlie   79.3"
      ],
      "text/html": "<div>\n<style scoped>\n    .dataframe tbody tr th:only-of-type {\n        vertical-align: middle;\n    }\n\n    .dataframe tbody tr th {\n        vertical-align: top;\n    }\n\n    .dataframe thead th {\n        text-align: right;\n    }\n</style>\n<table border=\"1\" class=\"dataframe\">\n  <thead>\n    <tr style=\"text-align: right;\">\n      <th></th>\n      <th>id</th>\n      <th>name</th>\n      <th>score</th>\n    </tr>\n  </thead>\n  <tbody>\n    <tr>\n      <th>0</th>\n      <td>1</td>\n      <td>Alice</td>\n      <td>95.5</td>\n    </tr>\n    <tr>\n      <th>1</th>\n      <td>2</td>\n      <td>Bob</td>\n      <td>88.0</td>\n    </tr>\n    <tr>\n      <th>2</th>\n      <td>3</td>\n      <td>Charlie</td>\n      <td>79.3</td>\n    </tr>\n  </tbody>\n</table>\n</div>"
     },
     "metadata": {},
     "execution_count": 23
    }
   ],
   "source": [
    "df_gz\n"
   ]
  },
  {
   "cell_type": "code",
   "execution_count": 24,
   "metadata": {},
   "outputs": [
    {
     "output_type": "execute_result",
     "data": {
      "text/plain": [
       "   id     name  score\n",
       "0   1    Alice   95.5\n",
       "1   2      Bob   88.0\n",
       "2   3  Charlie   79.3"
      ],
      "text/html": "<div>\n<style scoped>\n    .dataframe tbody tr th:only-of-type {\n        vertical-align: middle;\n    }\n\n    .dataframe tbody tr th {\n        vertical-align: top;\n    }\n\n    .dataframe thead th {\n        text-align: right;\n    }\n</style>\n<table border=\"1\" class=\"dataframe\">\n  <thead>\n    <tr style=\"text-align: right;\">\n      <th></th>\n      <th>id</th>\n      <th>name</th>\n      <th>score</th>\n    </tr>\n  </thead>\n  <tbody>\n    <tr>\n      <th>0</th>\n      <td>1</td>\n      <td>Alice</td>\n      <td>95.5</td>\n    </tr>\n    <tr>\n      <th>1</th>\n      <td>2</td>\n      <td>Bob</td>\n      <td>88.0</td>\n    </tr>\n    <tr>\n      <th>2</th>\n      <td>3</td>\n      <td>Charlie</td>\n      <td>79.3</td>\n    </tr>\n  </tbody>\n</table>\n</div>"
     },
     "metadata": {},
     "execution_count": 24
    }
   ],
   "source": [
    "df_bz2 "
   ]
  },
  {
   "cell_type": "code",
   "execution_count": null,
   "metadata": {},
   "outputs": [],
   "source": []
  }
 ]
}
