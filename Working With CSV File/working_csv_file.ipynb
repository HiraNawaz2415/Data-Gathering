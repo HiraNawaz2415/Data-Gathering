{
 "metadata": {
  "language_info": {
   "codemirror_mode": {
    "name": "ipython",
    "version": 3
   },
   "file_extension": ".py",
   "mimetype": "text/x-python",
   "name": "python",
   "nbconvert_exporter": "python",
   "pygments_lexer": "ipython3",
   "version": "3.12.2-final"
  },
  "orig_nbformat": 2,
  "kernelspec": {
   "name": "python3",
   "display_name": "Python 3.12.2 64-bit",
   "metadata": {
    "interpreter": {
     "hash": "d6ca1284c7bd7ae5870c8ab738ede617c834b0c6d27e733d7d2a522b2e1e0f98"
    }
   }
  }
 },
 "nbformat": 4,
 "nbformat_minor": 2,
 "cells": [
  {
   "source": [
    "# Data Gathering Methods\n",
    "### CSV Files\n",
    "### Web Scraping\n",
    "### JSON/SQL\n",
    "### Fetching data from API\n"
   ],
   "cell_type": "markdown",
   "metadata": {}
  },
  {
   "source": [
    "# Working with CSV Files"
   ],
   "cell_type": "markdown",
   "metadata": {}
  },
  {
   "source": [
    "### **Comma Separated file**\n",
    "In this file  each row is separted by commas,\n",
    "### ** TSV- Tab Separated File**\n",
    "In this file values are separted by tab."
   ],
   "cell_type": "markdown",
   "metadata": {}
  },
  {
   "source": [
    "<p>The CSV file format is a popular format supported by many machine learning frameworks. The format is variously referred to \"comma-separated values\" or \"character-separated values.\"</p>\n",
    "<p>A CSV file stores tabular data (numbers and text) in plain text form. A CSV file consists of any number of records, separated by line breaks of some kind. Each record consists of fields, separated by a literal comma. In some regions, the separator might be a semi-colon.</p>\n",
    "<p>Typically, all records have an identical number of fields, and missing values are represented as nulls or empty strings. There are a number of ways to load a CSV file in Python.</p>"
   ],
   "cell_type": "markdown",
   "metadata": {}
  },
  {
   "source": [
    "### <b> 1.Opening a local CSV File</b>"
   ],
   "cell_type": "markdown",
   "metadata": {}
  },
  {
   "cell_type": "code",
   "execution_count": 3,
   "metadata": {},
   "outputs": [
    {
     "output_type": "execute_result",
     "data": {
      "text/plain": [
       "    Unnamed: 0  cgpa     iq  placement\n",
       "0            0   6.8  123.0          1\n",
       "1            1   5.9  106.0          0\n",
       "2            2   5.3  121.0          0\n",
       "3            3   7.4  132.0          1\n",
       "4            4   5.8  142.0          0\n",
       "..         ...   ...    ...        ...\n",
       "95          95   4.3  200.0          0\n",
       "96          96   4.4   42.0          0\n",
       "97          97   6.7  182.0          1\n",
       "98          98   6.3  103.0          1\n",
       "99          99   6.2  113.0          1\n",
       "\n",
       "[100 rows x 4 columns]"
      ],
      "text/html": "<div>\n<style scoped>\n    .dataframe tbody tr th:only-of-type {\n        vertical-align: middle;\n    }\n\n    .dataframe tbody tr th {\n        vertical-align: top;\n    }\n\n    .dataframe thead th {\n        text-align: right;\n    }\n</style>\n<table border=\"1\" class=\"dataframe\">\n  <thead>\n    <tr style=\"text-align: right;\">\n      <th></th>\n      <th>Unnamed: 0</th>\n      <th>cgpa</th>\n      <th>iq</th>\n      <th>placement</th>\n    </tr>\n  </thead>\n  <tbody>\n    <tr>\n      <th>0</th>\n      <td>0</td>\n      <td>6.8</td>\n      <td>123.0</td>\n      <td>1</td>\n    </tr>\n    <tr>\n      <th>1</th>\n      <td>1</td>\n      <td>5.9</td>\n      <td>106.0</td>\n      <td>0</td>\n    </tr>\n    <tr>\n      <th>2</th>\n      <td>2</td>\n      <td>5.3</td>\n      <td>121.0</td>\n      <td>0</td>\n    </tr>\n    <tr>\n      <th>3</th>\n      <td>3</td>\n      <td>7.4</td>\n      <td>132.0</td>\n      <td>1</td>\n    </tr>\n    <tr>\n      <th>4</th>\n      <td>4</td>\n      <td>5.8</td>\n      <td>142.0</td>\n      <td>0</td>\n    </tr>\n    <tr>\n      <th>...</th>\n      <td>...</td>\n      <td>...</td>\n      <td>...</td>\n      <td>...</td>\n    </tr>\n    <tr>\n      <th>95</th>\n      <td>95</td>\n      <td>4.3</td>\n      <td>200.0</td>\n      <td>0</td>\n    </tr>\n    <tr>\n      <th>96</th>\n      <td>96</td>\n      <td>4.4</td>\n      <td>42.0</td>\n      <td>0</td>\n    </tr>\n    <tr>\n      <th>97</th>\n      <td>97</td>\n      <td>6.7</td>\n      <td>182.0</td>\n      <td>1</td>\n    </tr>\n    <tr>\n      <th>98</th>\n      <td>98</td>\n      <td>6.3</td>\n      <td>103.0</td>\n      <td>1</td>\n    </tr>\n    <tr>\n      <th>99</th>\n      <td>99</td>\n      <td>6.2</td>\n      <td>113.0</td>\n      <td>1</td>\n    </tr>\n  </tbody>\n</table>\n<p>100 rows × 4 columns</p>\n</div>"
     },
     "metadata": {},
     "execution_count": 3
    }
   ],
   "source": [
    "import pandas as pd\n",
    "pd.read_csv(\"placement.csv\")\n"
   ]
  },
  {
   "source": [
    "### 2.Opening a csv file from a URL"
   ],
   "cell_type": "markdown",
   "metadata": {}
  },
  {
   "cell_type": "code",
   "execution_count": 5,
   "metadata": {},
   "outputs": [
    {
     "output_type": "stream",
     "name": "stdout",
     "text": [
      "['Duration', 'Pulse', 'Maxpulse', 'Calories']\n['60', '110', '130', '409.1']\n['60', '117', '145', '479.0']\n['60', '103', '135', '340.0']\n['45', '109', '175', '282.4']\n['45', '117', '148', '406.0']\n['60', '102', '127', '300.0']\n['60', '110', '136', '374.0']\n['45', '104', '134', '253.3']\n['30', '109', '133', '195.1']\n['60', '98', '124', '269.0']\n['60', '103', '147', '329.3']\n['60', '100', '120', '250.7']\n['60', '106', '128', '345.3']\n['60', '104', '132', '379.3']\n['60', '98', '123', '275.0']\n['60', '98', '120', '215.2']\n['60', '100', '120', '300.0']\n['45', '90', '112', '']\n['60', '103', '123', '323.0']\n['45', '97', '125', '243.0']\n['60', '108', '131', '364.2']\n['45', '100', '119', '282.0']\n['60', '130', '101', '300.0']\n['45', '105', '132', '246.0']\n['60', '102', '126', '334.5']\n['60', '100', '120', '250.0']\n['60', '92', '118', '241.0']\n['60', '103', '132', '']\n['60', '100', '132', '280.0']\n['60', '102', '129', '380.3']\n['60', '92', '115', '243.0']\n['45', '90', '112', '180.1']\n['60', '101', '124', '299.0']\n['60', '93', '113', '223.0']\n['60', '107', '136', '361.0']\n['60', '114', '140', '415.0']\n['60', '102', '127', '300.0']\n['60', '100', '120', '300.0']\n['60', '100', '120', '300.0']\n['45', '104', '129', '266.0']\n['45', '90', '112', '180.1']\n['60', '98', '126', '286.0']\n['60', '100', '122', '329.4']\n['60', '111', '138', '400.0']\n['60', '111', '131', '397.0']\n['60', '99', '119', '273.0']\n['60', '109', '153', '387.6']\n['45', '111', '136', '300.0']\n['45', '108', '129', '298.0']\n['60', '111', '139', '397.6']\n['60', '107', '136', '380.2']\n['80', '123', '146', '643.1']\n['60', '106', '130', '263.0']\n['60', '118', '151', '486.0']\n['30', '136', '175', '238.0']\n['60', '121', '146', '450.7']\n['60', '118', '121', '413.0']\n['45', '115', '144', '305.0']\n['20', '153', '172', '226.4']\n['45', '123', '152', '321.0']\n['210', '108', '160', '1376.0']\n['160', '110', '137', '1034.4']\n['160', '109', '135', '853.0']\n['45', '118', '141', '341.0']\n['20', '110', '130', '131.4']\n['180', '90', '130', '800.4']\n['150', '105', '135', '873.4']\n['150', '107', '130', '816.0']\n['20', '106', '136', '110.4']\n['300', '108', '143', '1500.2']\n['150', '97', '129', '1115.0']\n['60', '109', '153', '387.6']\n['90', '100', '127', '700.0']\n['150', '97', '127', '953.2']\n['45', '114', '146', '304.0']\n['90', '98', '125', '563.2']\n['45', '105', '134', '251.0']\n['45', '110', '141', '300.0']\n['120', '100', '130', '500.4']\n['270', '100', '131', '1729.0']\n['30', '159', '182', '319.2']\n['45', '149', '169', '344.0']\n['30', '103', '139', '151.1']\n['120', '100', '130', '500.0']\n['45', '100', '120', '225.3']\n['30', '151', '170', '300.0']\n['45', '102', '136', '234.0']\n['120', '100', '157', '1000.1']\n['45', '129', '103', '242.0']\n['20', '83', '107', '50.3']\n['180', '101', '127', '600.1']\n['45', '107', '137', '']\n['30', '90', '107', '105.3']\n['15', '80', '100', '50.5']\n['20', '150', '171', '127.4']\n['20', '151', '168', '229.4']\n['30', '95', '128', '128.2']\n['25', '152', '168', '244.2']\n['30', '109', '131', '188.2']\n['90', '93', '124', '604.1']\n['20', '95', '112', '77.7']\n['90', '90', '110', '500.0']\n['90', '90', '100', '500.0']\n['90', '90', '100', '500.4']\n['30', '92', '108', '92.7']\n['30', '93', '128', '124.0']\n['180', '90', '120', '800.3']\n['30', '90', '120', '86.2']\n['90', '90', '120', '500.3']\n['210', '137', '184', '1860.4']\n['60', '102', '124', '325.2']\n['45', '107', '124', '275.0']\n['15', '124', '139', '124.2']\n['45', '100', '120', '225.3']\n['60', '108', '131', '367.6']\n['60', '108', '151', '351.7']\n['60', '116', '141', '443.0']\n['60', '97', '122', '277.4']\n['60', '105', '125', '']\n['60', '103', '124', '332.7']\n['30', '112', '137', '193.9']\n['45', '100', '120', '100.7']\n['60', '119', '169', '336.7']\n['60', '107', '127', '344.9']\n['60', '111', '151', '368.5']\n['60', '98', '122', '271.0']\n['60', '97', '124', '275.3']\n['60', '109', '127', '382.0']\n['90', '99', '125', '466.4']\n['60', '114', '151', '384.0']\n['60', '104', '134', '342.5']\n['60', '107', '138', '357.5']\n['60', '103', '133', '335.0']\n['60', '106', '132', '327.5']\n['60', '103', '136', '339.0']\n['20', '136', '156', '189.0']\n['45', '117', '143', '317.7']\n['45', '115', '137', '318.0']\n['45', '113', '138', '308.0']\n['20', '141', '162', '222.4']\n['60', '108', '135', '390.0']\n['60', '97', '127', '']\n['45', '100', '120', '250.4']\n['45', '122', '149', '335.4']\n['60', '136', '170', '470.2']\n['45', '106', '126', '270.8']\n['60', '107', '136', '400.0']\n['60', '112', '146', '361.9']\n['30', '103', '127', '185.0']\n['60', '110', '150', '409.4']\n['60', '106', '134', '343.0']\n['60', '109', '129', '353.2']\n['60', '109', '138', '374.0']\n['30', '150', '167', '275.8']\n['60', '105', '128', '328.0']\n['60', '111', '151', '368.5']\n['60', '97', '131', '270.4']\n['60', '100', '120', '270.4']\n['60', '114', '150', '382.8']\n['30', '80', '120', '240.9']\n['30', '85', '120', '250.4']\n['45', '90', '130', '260.4']\n['45', '95', '130', '270.0']\n['45', '100', '140', '280.9']\n['60', '105', '140', '290.8']\n['60', '110', '145', '300.0']\n['60', '115', '145', '310.2']\n['75', '120', '150', '320.4']\n['75', '125', '150', '330.4']\n"
     ]
    }
   ],
   "source": [
    "import requests\n",
    "import csv\n",
    "from io import StringIO\n",
    "\n",
    "url = 'https://www.w3schools.com/python/pandas/data.csv.txt'\n",
    "response = requests.get(url)\n",
    "csv_content = StringIO(response.text)\n",
    "reader = csv.reader(csv_content)\n",
    "\n",
    "for row in reader:\n",
    "    print(row)"
   ]
  },
  {
   "cell_type": "code",
   "execution_count": 9,
   "metadata": {},
   "outputs": [
    {
     "output_type": "stream",
     "name": "stdout",
     "text": [
      "   Duration  Pulse  Maxpulse  Calories\n0        60    110       130     409.1\n1        60    117       145     479.0\n2        60    103       135     340.0\n3        45    109       175     282.4\n4        45    117       148     406.0\n"
     ]
    }
   ],
   "source": [
    "df = pd.read_csv(url)  # Treats first row as data\n",
    "print(df.head())"
   ]
  },
  {
   "source": [
    "### 3. skiprows parameter"
   ],
   "cell_type": "markdown",
   "metadata": {}
  },
  {
   "cell_type": "code",
   "execution_count": 13,
   "metadata": {},
   "outputs": [
    {
     "output_type": "execute_result",
     "data": {
      "text/plain": [
       "     Duration  Pulse  Maxpulse  Calories\n",
       "0          60    110       130     409.1\n",
       "1          60    117       145     479.0\n",
       "2          45    117       148     406.0\n",
       "3          60    102       127     300.0\n",
       "4          60    110       136     374.0\n",
       "..        ...    ...       ...       ...\n",
       "162        60    105       140     290.8\n",
       "163        60    110       145     300.0\n",
       "164        60    115       145     310.2\n",
       "165        75    120       150     320.4\n",
       "166        75    125       150     330.4\n",
       "\n",
       "[167 rows x 4 columns]"
      ],
      "text/html": "<div>\n<style scoped>\n    .dataframe tbody tr th:only-of-type {\n        vertical-align: middle;\n    }\n\n    .dataframe tbody tr th {\n        vertical-align: top;\n    }\n\n    .dataframe thead th {\n        text-align: right;\n    }\n</style>\n<table border=\"1\" class=\"dataframe\">\n  <thead>\n    <tr style=\"text-align: right;\">\n      <th></th>\n      <th>Duration</th>\n      <th>Pulse</th>\n      <th>Maxpulse</th>\n      <th>Calories</th>\n    </tr>\n  </thead>\n  <tbody>\n    <tr>\n      <th>0</th>\n      <td>60</td>\n      <td>110</td>\n      <td>130</td>\n      <td>409.1</td>\n    </tr>\n    <tr>\n      <th>1</th>\n      <td>60</td>\n      <td>117</td>\n      <td>145</td>\n      <td>479.0</td>\n    </tr>\n    <tr>\n      <th>2</th>\n      <td>45</td>\n      <td>117</td>\n      <td>148</td>\n      <td>406.0</td>\n    </tr>\n    <tr>\n      <th>3</th>\n      <td>60</td>\n      <td>102</td>\n      <td>127</td>\n      <td>300.0</td>\n    </tr>\n    <tr>\n      <th>4</th>\n      <td>60</td>\n      <td>110</td>\n      <td>136</td>\n      <td>374.0</td>\n    </tr>\n    <tr>\n      <th>...</th>\n      <td>...</td>\n      <td>...</td>\n      <td>...</td>\n      <td>...</td>\n    </tr>\n    <tr>\n      <th>162</th>\n      <td>60</td>\n      <td>105</td>\n      <td>140</td>\n      <td>290.8</td>\n    </tr>\n    <tr>\n      <th>163</th>\n      <td>60</td>\n      <td>110</td>\n      <td>145</td>\n      <td>300.0</td>\n    </tr>\n    <tr>\n      <th>164</th>\n      <td>60</td>\n      <td>115</td>\n      <td>145</td>\n      <td>310.2</td>\n    </tr>\n    <tr>\n      <th>165</th>\n      <td>75</td>\n      <td>120</td>\n      <td>150</td>\n      <td>320.4</td>\n    </tr>\n    <tr>\n      <th>166</th>\n      <td>75</td>\n      <td>125</td>\n      <td>150</td>\n      <td>330.4</td>\n    </tr>\n  </tbody>\n</table>\n<p>167 rows × 4 columns</p>\n</div>"
     },
     "metadata": {},
     "execution_count": 13
    }
   ],
   "source": [
    "df = pd.read_csv(url, skiprows=[3,4])  # Skips the first two rows\n",
    "df"
   ]
  },
  {
   "source": [
    "### 4. nrows patameter- Used to select number of rows that need to be read.\n",
    "<p>The nrows parameter in pandas.read_csv() is used to limit the number of rows read from a CSV file.</p>\n",
    "**Why use nrows?**\n",
    "To preview part of a large file.\n",
    "To reduce memory usage when testing or working with a sample.\n",
    "To debug your data loading logic."
   ],
   "cell_type": "markdown",
   "metadata": {}
  },
  {
   "cell_type": "code",
   "execution_count": 15,
   "metadata": {},
   "outputs": [
    {
     "output_type": "execute_result",
     "data": {
      "text/plain": [
       "    Duration  Pulse  Maxpulse  Calories\n",
       "0         60    110       130     409.1\n",
       "1         60    117       145     479.0\n",
       "2         60    103       135     340.0\n",
       "3         45    109       175     282.4\n",
       "4         45    117       148     406.0\n",
       "5         60    102       127     300.0\n",
       "6         60    110       136     374.0\n",
       "7         45    104       134     253.3\n",
       "8         30    109       133     195.1\n",
       "9         60     98       124     269.0\n",
       "10        60    103       147     329.3\n",
       "11        60    100       120     250.7\n",
       "12        60    106       128     345.3\n",
       "13        60    104       132     379.3\n",
       "14        60     98       123     275.0\n",
       "15        60     98       120     215.2\n",
       "16        60    100       120     300.0\n",
       "17        45     90       112       NaN\n",
       "18        60    103       123     323.0\n",
       "19        45     97       125     243.0\n",
       "20        60    108       131     364.2\n",
       "21        45    100       119     282.0\n",
       "22        60    130       101     300.0\n",
       "23        45    105       132     246.0\n",
       "24        60    102       126     334.5\n",
       "25        60    100       120     250.0\n",
       "26        60     92       118     241.0\n",
       "27        60    103       132       NaN\n",
       "28        60    100       132     280.0\n",
       "29        60    102       129     380.3\n",
       "30        60     92       115     243.0\n",
       "31        45     90       112     180.1\n",
       "32        60    101       124     299.0\n",
       "33        60     93       113     223.0\n",
       "34        60    107       136     361.0\n",
       "35        60    114       140     415.0\n",
       "36        60    102       127     300.0\n",
       "37        60    100       120     300.0\n",
       "38        60    100       120     300.0\n",
       "39        45    104       129     266.0\n",
       "40        45     90       112     180.1\n",
       "41        60     98       126     286.0\n",
       "42        60    100       122     329.4\n",
       "43        60    111       138     400.0\n",
       "44        60    111       131     397.0\n",
       "45        60     99       119     273.0\n",
       "46        60    109       153     387.6\n",
       "47        45    111       136     300.0\n",
       "48        45    108       129     298.0\n",
       "49        60    111       139     397.6"
      ],
      "text/html": "<div>\n<style scoped>\n    .dataframe tbody tr th:only-of-type {\n        vertical-align: middle;\n    }\n\n    .dataframe tbody tr th {\n        vertical-align: top;\n    }\n\n    .dataframe thead th {\n        text-align: right;\n    }\n</style>\n<table border=\"1\" class=\"dataframe\">\n  <thead>\n    <tr style=\"text-align: right;\">\n      <th></th>\n      <th>Duration</th>\n      <th>Pulse</th>\n      <th>Maxpulse</th>\n      <th>Calories</th>\n    </tr>\n  </thead>\n  <tbody>\n    <tr>\n      <th>0</th>\n      <td>60</td>\n      <td>110</td>\n      <td>130</td>\n      <td>409.1</td>\n    </tr>\n    <tr>\n      <th>1</th>\n      <td>60</td>\n      <td>117</td>\n      <td>145</td>\n      <td>479.0</td>\n    </tr>\n    <tr>\n      <th>2</th>\n      <td>60</td>\n      <td>103</td>\n      <td>135</td>\n      <td>340.0</td>\n    </tr>\n    <tr>\n      <th>3</th>\n      <td>45</td>\n      <td>109</td>\n      <td>175</td>\n      <td>282.4</td>\n    </tr>\n    <tr>\n      <th>4</th>\n      <td>45</td>\n      <td>117</td>\n      <td>148</td>\n      <td>406.0</td>\n    </tr>\n    <tr>\n      <th>5</th>\n      <td>60</td>\n      <td>102</td>\n      <td>127</td>\n      <td>300.0</td>\n    </tr>\n    <tr>\n      <th>6</th>\n      <td>60</td>\n      <td>110</td>\n      <td>136</td>\n      <td>374.0</td>\n    </tr>\n    <tr>\n      <th>7</th>\n      <td>45</td>\n      <td>104</td>\n      <td>134</td>\n      <td>253.3</td>\n    </tr>\n    <tr>\n      <th>8</th>\n      <td>30</td>\n      <td>109</td>\n      <td>133</td>\n      <td>195.1</td>\n    </tr>\n    <tr>\n      <th>9</th>\n      <td>60</td>\n      <td>98</td>\n      <td>124</td>\n      <td>269.0</td>\n    </tr>\n    <tr>\n      <th>10</th>\n      <td>60</td>\n      <td>103</td>\n      <td>147</td>\n      <td>329.3</td>\n    </tr>\n    <tr>\n      <th>11</th>\n      <td>60</td>\n      <td>100</td>\n      <td>120</td>\n      <td>250.7</td>\n    </tr>\n    <tr>\n      <th>12</th>\n      <td>60</td>\n      <td>106</td>\n      <td>128</td>\n      <td>345.3</td>\n    </tr>\n    <tr>\n      <th>13</th>\n      <td>60</td>\n      <td>104</td>\n      <td>132</td>\n      <td>379.3</td>\n    </tr>\n    <tr>\n      <th>14</th>\n      <td>60</td>\n      <td>98</td>\n      <td>123</td>\n      <td>275.0</td>\n    </tr>\n    <tr>\n      <th>15</th>\n      <td>60</td>\n      <td>98</td>\n      <td>120</td>\n      <td>215.2</td>\n    </tr>\n    <tr>\n      <th>16</th>\n      <td>60</td>\n      <td>100</td>\n      <td>120</td>\n      <td>300.0</td>\n    </tr>\n    <tr>\n      <th>17</th>\n      <td>45</td>\n      <td>90</td>\n      <td>112</td>\n      <td>NaN</td>\n    </tr>\n    <tr>\n      <th>18</th>\n      <td>60</td>\n      <td>103</td>\n      <td>123</td>\n      <td>323.0</td>\n    </tr>\n    <tr>\n      <th>19</th>\n      <td>45</td>\n      <td>97</td>\n      <td>125</td>\n      <td>243.0</td>\n    </tr>\n    <tr>\n      <th>20</th>\n      <td>60</td>\n      <td>108</td>\n      <td>131</td>\n      <td>364.2</td>\n    </tr>\n    <tr>\n      <th>21</th>\n      <td>45</td>\n      <td>100</td>\n      <td>119</td>\n      <td>282.0</td>\n    </tr>\n    <tr>\n      <th>22</th>\n      <td>60</td>\n      <td>130</td>\n      <td>101</td>\n      <td>300.0</td>\n    </tr>\n    <tr>\n      <th>23</th>\n      <td>45</td>\n      <td>105</td>\n      <td>132</td>\n      <td>246.0</td>\n    </tr>\n    <tr>\n      <th>24</th>\n      <td>60</td>\n      <td>102</td>\n      <td>126</td>\n      <td>334.5</td>\n    </tr>\n    <tr>\n      <th>25</th>\n      <td>60</td>\n      <td>100</td>\n      <td>120</td>\n      <td>250.0</td>\n    </tr>\n    <tr>\n      <th>26</th>\n      <td>60</td>\n      <td>92</td>\n      <td>118</td>\n      <td>241.0</td>\n    </tr>\n    <tr>\n      <th>27</th>\n      <td>60</td>\n      <td>103</td>\n      <td>132</td>\n      <td>NaN</td>\n    </tr>\n    <tr>\n      <th>28</th>\n      <td>60</td>\n      <td>100</td>\n      <td>132</td>\n      <td>280.0</td>\n    </tr>\n    <tr>\n      <th>29</th>\n      <td>60</td>\n      <td>102</td>\n      <td>129</td>\n      <td>380.3</td>\n    </tr>\n    <tr>\n      <th>30</th>\n      <td>60</td>\n      <td>92</td>\n      <td>115</td>\n      <td>243.0</td>\n    </tr>\n    <tr>\n      <th>31</th>\n      <td>45</td>\n      <td>90</td>\n      <td>112</td>\n      <td>180.1</td>\n    </tr>\n    <tr>\n      <th>32</th>\n      <td>60</td>\n      <td>101</td>\n      <td>124</td>\n      <td>299.0</td>\n    </tr>\n    <tr>\n      <th>33</th>\n      <td>60</td>\n      <td>93</td>\n      <td>113</td>\n      <td>223.0</td>\n    </tr>\n    <tr>\n      <th>34</th>\n      <td>60</td>\n      <td>107</td>\n      <td>136</td>\n      <td>361.0</td>\n    </tr>\n    <tr>\n      <th>35</th>\n      <td>60</td>\n      <td>114</td>\n      <td>140</td>\n      <td>415.0</td>\n    </tr>\n    <tr>\n      <th>36</th>\n      <td>60</td>\n      <td>102</td>\n      <td>127</td>\n      <td>300.0</td>\n    </tr>\n    <tr>\n      <th>37</th>\n      <td>60</td>\n      <td>100</td>\n      <td>120</td>\n      <td>300.0</td>\n    </tr>\n    <tr>\n      <th>38</th>\n      <td>60</td>\n      <td>100</td>\n      <td>120</td>\n      <td>300.0</td>\n    </tr>\n    <tr>\n      <th>39</th>\n      <td>45</td>\n      <td>104</td>\n      <td>129</td>\n      <td>266.0</td>\n    </tr>\n    <tr>\n      <th>40</th>\n      <td>45</td>\n      <td>90</td>\n      <td>112</td>\n      <td>180.1</td>\n    </tr>\n    <tr>\n      <th>41</th>\n      <td>60</td>\n      <td>98</td>\n      <td>126</td>\n      <td>286.0</td>\n    </tr>\n    <tr>\n      <th>42</th>\n      <td>60</td>\n      <td>100</td>\n      <td>122</td>\n      <td>329.4</td>\n    </tr>\n    <tr>\n      <th>43</th>\n      <td>60</td>\n      <td>111</td>\n      <td>138</td>\n      <td>400.0</td>\n    </tr>\n    <tr>\n      <th>44</th>\n      <td>60</td>\n      <td>111</td>\n      <td>131</td>\n      <td>397.0</td>\n    </tr>\n    <tr>\n      <th>45</th>\n      <td>60</td>\n      <td>99</td>\n      <td>119</td>\n      <td>273.0</td>\n    </tr>\n    <tr>\n      <th>46</th>\n      <td>60</td>\n      <td>109</td>\n      <td>153</td>\n      <td>387.6</td>\n    </tr>\n    <tr>\n      <th>47</th>\n      <td>45</td>\n      <td>111</td>\n      <td>136</td>\n      <td>300.0</td>\n    </tr>\n    <tr>\n      <th>48</th>\n      <td>45</td>\n      <td>108</td>\n      <td>129</td>\n      <td>298.0</td>\n    </tr>\n    <tr>\n      <th>49</th>\n      <td>60</td>\n      <td>111</td>\n      <td>139</td>\n      <td>397.6</td>\n    </tr>\n  </tbody>\n</table>\n</div>"
     },
     "metadata": {},
     "execution_count": 15
    }
   ],
   "source": [
    "df = pd.read_csv(url,nrows=50)  # Skips the first two rows\n",
    "df"
   ]
  },
  {
   "source": [
    "### 5.Combine with skiprows for reading specific slice\n"
   ],
   "cell_type": "markdown",
   "metadata": {}
  },
  {
   "cell_type": "code",
   "execution_count": 19,
   "metadata": {},
   "outputs": [
    {
     "output_type": "execute_result",
     "data": {
      "text/plain": [
       "   60   98  124  269.0\n",
       "0  60  103  147  329.3\n",
       "1  60  100  120  250.7\n",
       "2  60  106  128  345.3\n",
       "3  60  104  132  379.3\n",
       "4  60   98  123  275.0"
      ],
      "text/html": "<div>\n<style scoped>\n    .dataframe tbody tr th:only-of-type {\n        vertical-align: middle;\n    }\n\n    .dataframe tbody tr th {\n        vertical-align: top;\n    }\n\n    .dataframe thead th {\n        text-align: right;\n    }\n</style>\n<table border=\"1\" class=\"dataframe\">\n  <thead>\n    <tr style=\"text-align: right;\">\n      <th></th>\n      <th>60</th>\n      <th>98</th>\n      <th>124</th>\n      <th>269.0</th>\n    </tr>\n  </thead>\n  <tbody>\n    <tr>\n      <th>0</th>\n      <td>60</td>\n      <td>103</td>\n      <td>147</td>\n      <td>329.3</td>\n    </tr>\n    <tr>\n      <th>1</th>\n      <td>60</td>\n      <td>100</td>\n      <td>120</td>\n      <td>250.7</td>\n    </tr>\n    <tr>\n      <th>2</th>\n      <td>60</td>\n      <td>106</td>\n      <td>128</td>\n      <td>345.3</td>\n    </tr>\n    <tr>\n      <th>3</th>\n      <td>60</td>\n      <td>104</td>\n      <td>132</td>\n      <td>379.3</td>\n    </tr>\n    <tr>\n      <th>4</th>\n      <td>60</td>\n      <td>98</td>\n      <td>123</td>\n      <td>275.0</td>\n    </tr>\n  </tbody>\n</table>\n</div>"
     },
     "metadata": {},
     "execution_count": 19
    }
   ],
   "source": [
    "# Skip first 10 rows and then read next 5\n",
    "df1 = pd.read_csv(url, skiprows=10, nrows=5)\n",
    "df1"
   ]
  },
  {
   "source": [
    "### 6. names parameter\n",
    "**names=... tells pandas to use these column names.**\n",
    "**header=None tells pandas not to treat the first row as column headers (treat it as data).**\n",
    "\n"
   ],
   "cell_type": "markdown",
   "metadata": {}
  },
  {
   "cell_type": "code",
   "execution_count": 23,
   "metadata": {},
   "outputs": [
    {
     "output_type": "stream",
     "name": "stdout",
     "text": [
      "   Name    Age  Email\n0   6.8  123.0      1\n1   5.9  106.0      0\n2   5.3  121.0      0\n3   7.4  132.0      1\n4   5.8  142.0      0\n"
     ]
    }
   ],
   "source": [
    "import pandas as pd\n",
    "custom_headers = ['Name', 'Age', 'Email']\n",
    "df = pd.read_csv(\"placement.csv\", names=custom_headers, header=None, skiprows=1)\n",
    "print(df.head())\n"
   ]
  },
  {
   "source": [
    "### 7. Index_col Parameter\n",
    "<p>The index_col parameter in pandas.read_csv() is used to specify which column(s) should be used as the row index of the DataFrame. </p>\n",
    "<p> When to use:\n",
    "When your CSV has a unique identifier (like IDs) in the first column\n",
    "When you want to simplify row referencing using meaningful labels</p>"
   ],
   "cell_type": "markdown",
   "metadata": {}
  },
  {
   "cell_type": "code",
   "execution_count": 3,
   "metadata": {},
   "outputs": [
    {
     "output_type": "stream",
     "name": "stdout",
     "text": [
      "   cgpa     iq  placement\n0   6.8  123.0          1\n1   5.9  106.0          0\n2   5.3  121.0          0\n3   7.4  132.0          1\n4   5.8  142.0          0\n"
     ]
    }
   ],
   "source": [
    "import pandas as pd\n",
    "\n",
    "df = pd.read_csv(\"placement.csv\", index_col=0)\n",
    "print(df.head())\n"
   ]
  },
  {
   "cell_type": "code",
   "execution_count": 5,
   "metadata": {},
   "outputs": [
    {
     "output_type": "execute_result",
     "data": {
      "text/plain": [
       "      Unnamed: 0     iq  placement\n",
       "cgpa                              \n",
       "6.8            0  123.0          1\n",
       "5.9            1  106.0          0\n",
       "5.3            2  121.0          0\n",
       "7.4            3  132.0          1\n",
       "5.8            4  142.0          0\n",
       "...          ...    ...        ...\n",
       "4.3           95  200.0          0\n",
       "4.4           96   42.0          0\n",
       "6.7           97  182.0          1\n",
       "6.3           98  103.0          1\n",
       "6.2           99  113.0          1\n",
       "\n",
       "[100 rows x 3 columns]"
      ],
      "text/html": "<div>\n<style scoped>\n    .dataframe tbody tr th:only-of-type {\n        vertical-align: middle;\n    }\n\n    .dataframe tbody tr th {\n        vertical-align: top;\n    }\n\n    .dataframe thead th {\n        text-align: right;\n    }\n</style>\n<table border=\"1\" class=\"dataframe\">\n  <thead>\n    <tr style=\"text-align: right;\">\n      <th></th>\n      <th>Unnamed: 0</th>\n      <th>iq</th>\n      <th>placement</th>\n    </tr>\n    <tr>\n      <th>cgpa</th>\n      <th></th>\n      <th></th>\n      <th></th>\n    </tr>\n  </thead>\n  <tbody>\n    <tr>\n      <th>6.8</th>\n      <td>0</td>\n      <td>123.0</td>\n      <td>1</td>\n    </tr>\n    <tr>\n      <th>5.9</th>\n      <td>1</td>\n      <td>106.0</td>\n      <td>0</td>\n    </tr>\n    <tr>\n      <th>5.3</th>\n      <td>2</td>\n      <td>121.0</td>\n      <td>0</td>\n    </tr>\n    <tr>\n      <th>7.4</th>\n      <td>3</td>\n      <td>132.0</td>\n      <td>1</td>\n    </tr>\n    <tr>\n      <th>5.8</th>\n      <td>4</td>\n      <td>142.0</td>\n      <td>0</td>\n    </tr>\n    <tr>\n      <th>...</th>\n      <td>...</td>\n      <td>...</td>\n      <td>...</td>\n    </tr>\n    <tr>\n      <th>4.3</th>\n      <td>95</td>\n      <td>200.0</td>\n      <td>0</td>\n    </tr>\n    <tr>\n      <th>4.4</th>\n      <td>96</td>\n      <td>42.0</td>\n      <td>0</td>\n    </tr>\n    <tr>\n      <th>6.7</th>\n      <td>97</td>\n      <td>182.0</td>\n      <td>1</td>\n    </tr>\n    <tr>\n      <th>6.3</th>\n      <td>98</td>\n      <td>103.0</td>\n      <td>1</td>\n    </tr>\n    <tr>\n      <th>6.2</th>\n      <td>99</td>\n      <td>113.0</td>\n      <td>1</td>\n    </tr>\n  </tbody>\n</table>\n<p>100 rows × 3 columns</p>\n</div>"
     },
     "metadata": {},
     "execution_count": 5
    }
   ],
   "source": [
    "df = pd.read_csv(\"placement.csv\", index_col='cgpa')\n",
    "df"
   ]
  },
  {
   "cell_type": "code",
   "execution_count": 7,
   "metadata": {},
   "outputs": [
    {
     "output_type": "execute_result",
     "data": {
      "text/plain": [
       "                      Unnamed: 0\n",
       "cgpa iq    placement            \n",
       "6.8  123.0 1                   0\n",
       "5.9  106.0 0                   1\n",
       "5.3  121.0 0                   2\n",
       "7.4  132.0 1                   3\n",
       "5.8  142.0 0                   4\n",
       "...                          ...\n",
       "4.3  200.0 0                  95\n",
       "4.4  42.0  0                  96\n",
       "6.7  182.0 1                  97\n",
       "6.3  103.0 1                  98\n",
       "6.2  113.0 1                  99\n",
       "\n",
       "[100 rows x 1 columns]"
      ],
      "text/html": "<div>\n<style scoped>\n    .dataframe tbody tr th:only-of-type {\n        vertical-align: middle;\n    }\n\n    .dataframe tbody tr th {\n        vertical-align: top;\n    }\n\n    .dataframe thead th {\n        text-align: right;\n    }\n</style>\n<table border=\"1\" class=\"dataframe\">\n  <thead>\n    <tr style=\"text-align: right;\">\n      <th></th>\n      <th></th>\n      <th></th>\n      <th>Unnamed: 0</th>\n    </tr>\n    <tr>\n      <th>cgpa</th>\n      <th>iq</th>\n      <th>placement</th>\n      <th></th>\n    </tr>\n  </thead>\n  <tbody>\n    <tr>\n      <th>6.8</th>\n      <th>123.0</th>\n      <th>1</th>\n      <td>0</td>\n    </tr>\n    <tr>\n      <th>5.9</th>\n      <th>106.0</th>\n      <th>0</th>\n      <td>1</td>\n    </tr>\n    <tr>\n      <th>5.3</th>\n      <th>121.0</th>\n      <th>0</th>\n      <td>2</td>\n    </tr>\n    <tr>\n      <th>7.4</th>\n      <th>132.0</th>\n      <th>1</th>\n      <td>3</td>\n    </tr>\n    <tr>\n      <th>5.8</th>\n      <th>142.0</th>\n      <th>0</th>\n      <td>4</td>\n    </tr>\n    <tr>\n      <th>...</th>\n      <th>...</th>\n      <th>...</th>\n      <td>...</td>\n    </tr>\n    <tr>\n      <th>4.3</th>\n      <th>200.0</th>\n      <th>0</th>\n      <td>95</td>\n    </tr>\n    <tr>\n      <th>4.4</th>\n      <th>42.0</th>\n      <th>0</th>\n      <td>96</td>\n    </tr>\n    <tr>\n      <th>6.7</th>\n      <th>182.0</th>\n      <th>1</th>\n      <td>97</td>\n    </tr>\n    <tr>\n      <th>6.3</th>\n      <th>103.0</th>\n      <th>1</th>\n      <td>98</td>\n    </tr>\n    <tr>\n      <th>6.2</th>\n      <th>113.0</th>\n      <th>1</th>\n      <td>99</td>\n    </tr>\n  </tbody>\n</table>\n<p>100 rows × 1 columns</p>\n</div>"
     },
     "metadata": {},
     "execution_count": 7
    }
   ],
   "source": [
    "df = pd.read_csv(\"placement.csv\", index_col=['cgpa', 'iq',\"placement\"])\n",
    "df"
   ]
  },
  {
   "source": [
    "### 8.use_cols parameter\n",
    "<p> Why use usecols?\n",
    "To load only relevant columns and reduce memory usage\n",
    "To speed up reading large CSV files</p>\n",
    "<p>You can pass:\n",
    "A list of column names (as above), or\n",
    "A list of column indices:</p>"
   ],
   "cell_type": "markdown",
   "metadata": {}
  },
  {
   "cell_type": "code",
   "execution_count": 8,
   "metadata": {},
   "outputs": [
    {
     "output_type": "stream",
     "name": "stdout",
     "text": [
      "   cgpa     iq\n0   6.8  123.0\n1   5.9  106.0\n2   5.3  121.0\n3   7.4  132.0\n4   5.8  142.0\n"
     ]
    }
   ],
   "source": [
    "import pandas as pd\n",
    "df = pd.read_csv(\"placement.csv\", usecols=['cgpa', 'iq'])\n",
    "print(df.head())\n"
   ]
  },
  {
   "cell_type": "code",
   "execution_count": 9,
   "metadata": {},
   "outputs": [
    {
     "output_type": "execute_result",
     "data": {
      "text/plain": [
       "    Unnamed: 0     iq\n",
       "0            0  123.0\n",
       "1            1  106.0\n",
       "2            2  121.0\n",
       "3            3  132.0\n",
       "4            4  142.0\n",
       "..         ...    ...\n",
       "95          95  200.0\n",
       "96          96   42.0\n",
       "97          97  182.0\n",
       "98          98  103.0\n",
       "99          99  113.0\n",
       "\n",
       "[100 rows x 2 columns]"
      ],
      "text/html": "<div>\n<style scoped>\n    .dataframe tbody tr th:only-of-type {\n        vertical-align: middle;\n    }\n\n    .dataframe tbody tr th {\n        vertical-align: top;\n    }\n\n    .dataframe thead th {\n        text-align: right;\n    }\n</style>\n<table border=\"1\" class=\"dataframe\">\n  <thead>\n    <tr style=\"text-align: right;\">\n      <th></th>\n      <th>Unnamed: 0</th>\n      <th>iq</th>\n    </tr>\n  </thead>\n  <tbody>\n    <tr>\n      <th>0</th>\n      <td>0</td>\n      <td>123.0</td>\n    </tr>\n    <tr>\n      <th>1</th>\n      <td>1</td>\n      <td>106.0</td>\n    </tr>\n    <tr>\n      <th>2</th>\n      <td>2</td>\n      <td>121.0</td>\n    </tr>\n    <tr>\n      <th>3</th>\n      <td>3</td>\n      <td>132.0</td>\n    </tr>\n    <tr>\n      <th>4</th>\n      <td>4</td>\n      <td>142.0</td>\n    </tr>\n    <tr>\n      <th>...</th>\n      <td>...</td>\n      <td>...</td>\n    </tr>\n    <tr>\n      <th>95</th>\n      <td>95</td>\n      <td>200.0</td>\n    </tr>\n    <tr>\n      <th>96</th>\n      <td>96</td>\n      <td>42.0</td>\n    </tr>\n    <tr>\n      <th>97</th>\n      <td>97</td>\n      <td>182.0</td>\n    </tr>\n    <tr>\n      <th>98</th>\n      <td>98</td>\n      <td>103.0</td>\n    </tr>\n    <tr>\n      <th>99</th>\n      <td>99</td>\n      <td>113.0</td>\n    </tr>\n  </tbody>\n</table>\n<p>100 rows × 2 columns</p>\n</div>"
     },
     "metadata": {},
     "execution_count": 9
    }
   ],
   "source": [
    "df = pd.read_csv(\"placement.csv\", usecols=[0, 2])  # Reads the first and third column\n",
    "df"
   ]
  },
  {
   "source": [
    "### 9.Squeeze Parameter\n",
    "The squeeze parameter in pandas.read_csv() was used to convert single-column or single-row DataFrames into a Series automatically. However, it has been deprecated since pandas 1.4.0 and removed in later versions."
   ],
   "cell_type": "markdown",
   "metadata": {}
  },
  {
   "cell_type": "code",
   "execution_count": 10,
   "metadata": {},
   "outputs": [
    {
     "output_type": "error",
     "ename": "TypeError",
     "evalue": "read_csv() got an unexpected keyword argument 'squeeze'",
     "traceback": [
      "\u001b[1;31m---------------------------------------------------------------------------\u001b[0m",
      "\u001b[1;31mTypeError\u001b[0m                                 Traceback (most recent call last)",
      "Cell \u001b[1;32mIn[10], line 1\u001b[0m\n\u001b[1;32m----> 1\u001b[0m df \u001b[38;5;241m=\u001b[39m \u001b[43mpd\u001b[49m\u001b[38;5;241;43m.\u001b[39;49m\u001b[43mread_csv\u001b[49m\u001b[43m(\u001b[49m\u001b[38;5;124;43m\"\u001b[39;49m\u001b[38;5;124;43mplacement.csv\u001b[39;49m\u001b[38;5;124;43m\"\u001b[39;49m\u001b[43m,\u001b[49m\u001b[43m \u001b[49m\u001b[43musecols\u001b[49m\u001b[38;5;241;43m=\u001b[39;49m\u001b[43m[\u001b[49m\u001b[38;5;124;43m'\u001b[39;49m\u001b[38;5;124;43mcgpa\u001b[39;49m\u001b[38;5;124;43m'\u001b[39;49m\u001b[43m]\u001b[49m\u001b[43m,\u001b[49m\u001b[43m \u001b[49m\u001b[43msqueeze\u001b[49m\u001b[38;5;241;43m=\u001b[39;49m\u001b[38;5;28;43;01mTrue\u001b[39;49;00m\u001b[43m)\u001b[49m\n\u001b[0;32m      2\u001b[0m \u001b[38;5;66;03m# Returns a Series instead of a DataFrame if only one column is read\u001b[39;00m\n\u001b[0;32m      3\u001b[0m df\n",
      "\u001b[1;31mTypeError\u001b[0m: read_csv() got an unexpected keyword argument 'squeeze'"
     ]
    }
   ],
   "source": [
    "df = pd.read_csv(\"placement.csv\", usecols=['cgpa'],squeeze=True)\n",
    "# Returns a Series instead of a DataFrame if only one column is read\n",
    "df"
   ]
  },
  {
   "cell_type": "code",
   "execution_count": 11,
   "metadata": {},
   "outputs": [
    {
     "output_type": "stream",
     "name": "stdout",
     "text": [
      "<class 'pandas.core.series.Series'>\n0    6.8\n1    5.9\n2    5.3\n3    7.4\n4    5.8\nName: cgpa, dtype: float64\n"
     ]
    }
   ],
   "source": [
    "# Modern way\n",
    "import pandas as pd\n",
    "\n",
    "df = pd.read_csv(\"placement.csv\", usecols=['cgpa'])\n",
    "cgpa_series = df['cgpa']  # Convert single-column DataFrame to Series\n",
    "\n",
    "print(type(cgpa_series))  # <class 'pandas.core.series.Series'>\n",
    "print(cgpa_series.head())\n"
   ]
  },
  {
   "source": [
    "### 10. Skip bad line paramter\n",
    "To skip bad lines (like rows with too many/few columns) when reading a CSV file using pandas, you can use the on_bad_lines parameter (the older error_bad_lines is deprecated).\n",
    "on_bad_lines options:\n",
    "**Value**\t**Behavior**\n",
    "'skip'\tSkips bad lines (too many/few fields)\n",
    "'warn'\tSkips bad lines and shows a warning\n",
    "'error' (default)\tRaises an error if any bad line is encountered\n",
    "Custom function\tYou can pass a function to manually handle bad lines"
   ],
   "cell_type": "markdown",
   "metadata": {}
  },
  {
   "cell_type": "code",
   "execution_count": 12,
   "metadata": {},
   "outputs": [
    {
     "output_type": "stream",
     "name": "stdout",
     "text": [
      "   Unnamed: 0  cgpa     iq  placement\n0           0   6.8  123.0          1\n1           1   5.9  106.0          0\n2           2   5.3  121.0          0\n3           3   7.4  132.0          1\n4           4   5.8  142.0          0\n"
     ]
    }
   ],
   "source": [
    "import pandas as pd\n",
    "\n",
    "df = pd.read_csv(\"placement.csv\", on_bad_lines='skip')\n",
    "print(df.head())\n"
   ]
  },
  {
   "cell_type": "code",
   "execution_count": 14,
   "metadata": {},
   "outputs": [
    {
     "output_type": "stream",
     "name": "stdout",
     "text": [
      "   Unnamed: 0  cgpa     iq  placement\n0           0   6.8  123.0          1\n1           1   5.9  106.0          0\n2           2   5.3  121.0          0\n3           3   7.4  132.0          1\n4           4   5.8  142.0          0\n"
     ]
    }
   ],
   "source": [
    "import pandas as pd\n",
    "\n",
    "def handle_bad_line(line):\n",
    "    print(\"Bad line found:\", line)\n",
    "    return None  # Skips the bad line\n",
    "\n",
    "df = pd.read_csv(\"placement.csv\", on_bad_lines=handle_bad_line, engine='python')\n",
    "print(df.head())\n",
    "\n"
   ]
  },
  {
   "source": [
    "### 11.dtypes parameter\n",
    "The **dtype** (or **dtypes**) parameter in pandas.read_csv() is used to explicitly set the data type for one or more columns while reading a CSV file.\n",
    "Why use dtype?\n",
    "Prevents pandas from inferring wrong types\n",
    "Speeds up parsing\n",
    "Avoids type conversion errors later"
   ],
   "cell_type": "markdown",
   "metadata": {}
  },
  {
   "cell_type": "code",
   "execution_count": 17,
   "metadata": {},
   "outputs": [
    {
     "output_type": "stream",
     "name": "stdout",
     "text": [
      "Unnamed: 0      int64\ncgpa          float64\niq              int64\nplacement      object\ndtype: object\n"
     ]
    }
   ],
   "source": [
    "import pandas as pd\n",
    "\n",
    "df = pd.read_csv(\n",
    "    \"placement.csv\",\n",
    "    dtype={\n",
    "        'cgpa': float,\n",
    "        'iq': int,\n",
    "        'placement': str  # Use str (built-in type)\n",
    "    }\n",
    ")\n",
    "print(df.dtypes)\n",
    "\n"
   ]
  },
  {
   "source": [
    "### 12. na_values parameter\n",
    "<p> The na_values parameter in pandas.read_csv() is used to specify additional strings that should be recognized as missing values (NaN) in the dataset.</p>\n",
    "<p> Why use na_values?\n",
    "Your data might have non-standard missing indicators (e.g., \"-\", \"?\", \"null\")\n",
    "Helps avoid manual cleaning after loading the data.</p>"
   ],
   "cell_type": "markdown",
   "metadata": {}
  },
  {
   "cell_type": "code",
   "execution_count": 1,
   "metadata": {},
   "outputs": [
    {
     "output_type": "stream",
     "name": "stdout",
     "text": [
      "   Unnamed: 0  cgpa     iq  placement\n0           0   6.8  123.0          1\n1           1   5.9  106.0          0\n2           2   5.3  121.0          0\n3           3   7.4  132.0          1\n4           4   5.8  142.0          0\n"
     ]
    }
   ],
   "source": [
    "# Example: Replace \"NA\", \"n/a\", and \"-\" with NaN\n",
    "import pandas as pd\n",
    "df= pd.read_csv(\"placement.csv\", na_values=[\"NA\", \"n/a\", \"-\"])\n",
    "print(df.head())\n"
   ]
  },
  {
   "cell_type": "code",
   "execution_count": 2,
   "metadata": {},
   "outputs": [
    {
     "output_type": "execute_result",
     "data": {
      "text/plain": [
       "    Unnamed: 0  cgpa     iq  placement\n",
       "0            0   6.8  123.0          1\n",
       "1            1   5.9  106.0          0\n",
       "2            2   5.3  121.0          0\n",
       "3            3   7.4  132.0          1\n",
       "4            4   5.8  142.0          0\n",
       "..         ...   ...    ...        ...\n",
       "95          95   4.3  200.0          0\n",
       "96          96   4.4   42.0          0\n",
       "97          97   6.7  182.0          1\n",
       "98          98   6.3  103.0          1\n",
       "99          99   6.2  113.0          1\n",
       "\n",
       "[100 rows x 4 columns]"
      ],
      "text/html": "<div>\n<style scoped>\n    .dataframe tbody tr th:only-of-type {\n        vertical-align: middle;\n    }\n\n    .dataframe tbody tr th {\n        vertical-align: top;\n    }\n\n    .dataframe thead th {\n        text-align: right;\n    }\n</style>\n<table border=\"1\" class=\"dataframe\">\n  <thead>\n    <tr style=\"text-align: right;\">\n      <th></th>\n      <th>Unnamed: 0</th>\n      <th>cgpa</th>\n      <th>iq</th>\n      <th>placement</th>\n    </tr>\n  </thead>\n  <tbody>\n    <tr>\n      <th>0</th>\n      <td>0</td>\n      <td>6.8</td>\n      <td>123.0</td>\n      <td>1</td>\n    </tr>\n    <tr>\n      <th>1</th>\n      <td>1</td>\n      <td>5.9</td>\n      <td>106.0</td>\n      <td>0</td>\n    </tr>\n    <tr>\n      <th>2</th>\n      <td>2</td>\n      <td>5.3</td>\n      <td>121.0</td>\n      <td>0</td>\n    </tr>\n    <tr>\n      <th>3</th>\n      <td>3</td>\n      <td>7.4</td>\n      <td>132.0</td>\n      <td>1</td>\n    </tr>\n    <tr>\n      <th>4</th>\n      <td>4</td>\n      <td>5.8</td>\n      <td>142.0</td>\n      <td>0</td>\n    </tr>\n    <tr>\n      <th>...</th>\n      <td>...</td>\n      <td>...</td>\n      <td>...</td>\n      <td>...</td>\n    </tr>\n    <tr>\n      <th>95</th>\n      <td>95</td>\n      <td>4.3</td>\n      <td>200.0</td>\n      <td>0</td>\n    </tr>\n    <tr>\n      <th>96</th>\n      <td>96</td>\n      <td>4.4</td>\n      <td>42.0</td>\n      <td>0</td>\n    </tr>\n    <tr>\n      <th>97</th>\n      <td>97</td>\n      <td>6.7</td>\n      <td>182.0</td>\n      <td>1</td>\n    </tr>\n    <tr>\n      <th>98</th>\n      <td>98</td>\n      <td>6.3</td>\n      <td>103.0</td>\n      <td>1</td>\n    </tr>\n    <tr>\n      <th>99</th>\n      <td>99</td>\n      <td>6.2</td>\n      <td>113.0</td>\n      <td>1</td>\n    </tr>\n  </tbody>\n</table>\n<p>100 rows × 4 columns</p>\n</div>"
     },
     "metadata": {},
     "execution_count": 2
    }
   ],
   "source": [
    "# Use per column (dictionary form)\n",
    "# You can also pass a dictionary to specify NA values per column:\n",
    "na_dict = {\n",
    "    \"Age\": [\"NA\", \"-1\"],\n",
    "    \"Email\": [\"missing\", \"none\"]\n",
    "}\n",
    "df = pd.read_csv(\"placement.csv\", na_values=na_dict)\n",
    "df"
   ]
  },
  {
   "source": [
    "### 13. Encoding Parameter\n",
    "The **encoding** parameter in pandas.read_csv() tells pandas how to decode the bytes in your CSV file into characters — especially important for files that aren’t UTF-8 encoded.\n",
    "Encoding\tUse case\n",
    "'utf-8'\tStandard encoding (default)\n",
    "'utf-8-sig'\tUTF-8 with BOM (often needed for Excel-exported files)\n",
    "'latin1'\tWestern European (ISO-8859-1) — useful for avoiding decode errors\n",
    "'cp1252'\tWindows encoding (similar to latin1)"
   ],
   "cell_type": "markdown",
   "metadata": {}
  },
  {
   "cell_type": "code",
   "execution_count": 19,
   "metadata": {},
   "outputs": [
    {
     "output_type": "execute_result",
     "data": {
      "text/plain": [
       "    Unnamed: 0  cgpa     iq  placement\n",
       "0            0   6.8  123.0          1\n",
       "1            1   5.9  106.0          0\n",
       "2            2   5.3  121.0          0\n",
       "3            3   7.4  132.0          1\n",
       "4            4   5.8  142.0          0\n",
       "..         ...   ...    ...        ...\n",
       "95          95   4.3  200.0          0\n",
       "96          96   4.4   42.0          0\n",
       "97          97   6.7  182.0          1\n",
       "98          98   6.3  103.0          1\n",
       "99          99   6.2  113.0          1\n",
       "\n",
       "[100 rows x 4 columns]"
      ],
      "text/html": "<div>\n<style scoped>\n    .dataframe tbody tr th:only-of-type {\n        vertical-align: middle;\n    }\n\n    .dataframe tbody tr th {\n        vertical-align: top;\n    }\n\n    .dataframe thead th {\n        text-align: right;\n    }\n</style>\n<table border=\"1\" class=\"dataframe\">\n  <thead>\n    <tr style=\"text-align: right;\">\n      <th></th>\n      <th>Unnamed: 0</th>\n      <th>cgpa</th>\n      <th>iq</th>\n      <th>placement</th>\n    </tr>\n  </thead>\n  <tbody>\n    <tr>\n      <th>0</th>\n      <td>0</td>\n      <td>6.8</td>\n      <td>123.0</td>\n      <td>1</td>\n    </tr>\n    <tr>\n      <th>1</th>\n      <td>1</td>\n      <td>5.9</td>\n      <td>106.0</td>\n      <td>0</td>\n    </tr>\n    <tr>\n      <th>2</th>\n      <td>2</td>\n      <td>5.3</td>\n      <td>121.0</td>\n      <td>0</td>\n    </tr>\n    <tr>\n      <th>3</th>\n      <td>3</td>\n      <td>7.4</td>\n      <td>132.0</td>\n      <td>1</td>\n    </tr>\n    <tr>\n      <th>4</th>\n      <td>4</td>\n      <td>5.8</td>\n      <td>142.0</td>\n      <td>0</td>\n    </tr>\n    <tr>\n      <th>...</th>\n      <td>...</td>\n      <td>...</td>\n      <td>...</td>\n      <td>...</td>\n    </tr>\n    <tr>\n      <th>95</th>\n      <td>95</td>\n      <td>4.3</td>\n      <td>200.0</td>\n      <td>0</td>\n    </tr>\n    <tr>\n      <th>96</th>\n      <td>96</td>\n      <td>4.4</td>\n      <td>42.0</td>\n      <td>0</td>\n    </tr>\n    <tr>\n      <th>97</th>\n      <td>97</td>\n      <td>6.7</td>\n      <td>182.0</td>\n      <td>1</td>\n    </tr>\n    <tr>\n      <th>98</th>\n      <td>98</td>\n      <td>6.3</td>\n      <td>103.0</td>\n      <td>1</td>\n    </tr>\n    <tr>\n      <th>99</th>\n      <td>99</td>\n      <td>6.2</td>\n      <td>113.0</td>\n      <td>1</td>\n    </tr>\n  </tbody>\n</table>\n<p>100 rows × 4 columns</p>\n</div>"
     },
     "metadata": {},
     "execution_count": 19
    }
   ],
   "source": [
    "import pandas as pd\n",
    "\n",
    "df = pd.read_csv(\"placement.csv\", encoding='utf-8')  # Default for most files\n",
    "df"
   ]
  },
  {
   "source": [
    "**If you get a UnicodeDecodeError, try:**"
   ],
   "cell_type": "markdown",
   "metadata": {}
  },
  {
   "cell_type": "code",
   "execution_count": 20,
   "metadata": {},
   "outputs": [
    {
     "output_type": "execute_result",
     "data": {
      "text/plain": [
       "    Unnamed: 0  cgpa     iq  placement\n",
       "0            0   6.8  123.0          1\n",
       "1            1   5.9  106.0          0\n",
       "2            2   5.3  121.0          0\n",
       "3            3   7.4  132.0          1\n",
       "4            4   5.8  142.0          0\n",
       "..         ...   ...    ...        ...\n",
       "95          95   4.3  200.0          0\n",
       "96          96   4.4   42.0          0\n",
       "97          97   6.7  182.0          1\n",
       "98          98   6.3  103.0          1\n",
       "99          99   6.2  113.0          1\n",
       "\n",
       "[100 rows x 4 columns]"
      ],
      "text/html": "<div>\n<style scoped>\n    .dataframe tbody tr th:only-of-type {\n        vertical-align: middle;\n    }\n\n    .dataframe tbody tr th {\n        vertical-align: top;\n    }\n\n    .dataframe thead th {\n        text-align: right;\n    }\n</style>\n<table border=\"1\" class=\"dataframe\">\n  <thead>\n    <tr style=\"text-align: right;\">\n      <th></th>\n      <th>Unnamed: 0</th>\n      <th>cgpa</th>\n      <th>iq</th>\n      <th>placement</th>\n    </tr>\n  </thead>\n  <tbody>\n    <tr>\n      <th>0</th>\n      <td>0</td>\n      <td>6.8</td>\n      <td>123.0</td>\n      <td>1</td>\n    </tr>\n    <tr>\n      <th>1</th>\n      <td>1</td>\n      <td>5.9</td>\n      <td>106.0</td>\n      <td>0</td>\n    </tr>\n    <tr>\n      <th>2</th>\n      <td>2</td>\n      <td>5.3</td>\n      <td>121.0</td>\n      <td>0</td>\n    </tr>\n    <tr>\n      <th>3</th>\n      <td>3</td>\n      <td>7.4</td>\n      <td>132.0</td>\n      <td>1</td>\n    </tr>\n    <tr>\n      <th>4</th>\n      <td>4</td>\n      <td>5.8</td>\n      <td>142.0</td>\n      <td>0</td>\n    </tr>\n    <tr>\n      <th>...</th>\n      <td>...</td>\n      <td>...</td>\n      <td>...</td>\n      <td>...</td>\n    </tr>\n    <tr>\n      <th>95</th>\n      <td>95</td>\n      <td>4.3</td>\n      <td>200.0</td>\n      <td>0</td>\n    </tr>\n    <tr>\n      <th>96</th>\n      <td>96</td>\n      <td>4.4</td>\n      <td>42.0</td>\n      <td>0</td>\n    </tr>\n    <tr>\n      <th>97</th>\n      <td>97</td>\n      <td>6.7</td>\n      <td>182.0</td>\n      <td>1</td>\n    </tr>\n    <tr>\n      <th>98</th>\n      <td>98</td>\n      <td>6.3</td>\n      <td>103.0</td>\n      <td>1</td>\n    </tr>\n    <tr>\n      <th>99</th>\n      <td>99</td>\n      <td>6.2</td>\n      <td>113.0</td>\n      <td>1</td>\n    </tr>\n  </tbody>\n</table>\n<p>100 rows × 4 columns</p>\n</div>"
     },
     "metadata": {},
     "execution_count": 20
    }
   ],
   "source": [
    "df = pd.read_csv(\"placement.csv\", encoding='latin1')\n",
    "df"
   ]
  },
  {
   "cell_type": "code",
   "execution_count": 22,
   "metadata": {},
   "outputs": [
    {
     "output_type": "execute_result",
     "data": {
      "text/plain": [
       "   Unnamed: 0  cgpa     iq  placement\n",
       "0           0   6.8  123.0          1\n",
       "1           1   5.9  106.0          0\n",
       "2           2   5.3  121.0          0\n",
       "3           3   7.4  132.0          1\n",
       "4           4   5.8  142.0          0"
      ],
      "text/html": "<div>\n<style scoped>\n    .dataframe tbody tr th:only-of-type {\n        vertical-align: middle;\n    }\n\n    .dataframe tbody tr th {\n        vertical-align: top;\n    }\n\n    .dataframe thead th {\n        text-align: right;\n    }\n</style>\n<table border=\"1\" class=\"dataframe\">\n  <thead>\n    <tr style=\"text-align: right;\">\n      <th></th>\n      <th>Unnamed: 0</th>\n      <th>cgpa</th>\n      <th>iq</th>\n      <th>placement</th>\n    </tr>\n  </thead>\n  <tbody>\n    <tr>\n      <th>0</th>\n      <td>0</td>\n      <td>6.8</td>\n      <td>123.0</td>\n      <td>1</td>\n    </tr>\n    <tr>\n      <th>1</th>\n      <td>1</td>\n      <td>5.9</td>\n      <td>106.0</td>\n      <td>0</td>\n    </tr>\n    <tr>\n      <th>2</th>\n      <td>2</td>\n      <td>5.3</td>\n      <td>121.0</td>\n      <td>0</td>\n    </tr>\n    <tr>\n      <th>3</th>\n      <td>3</td>\n      <td>7.4</td>\n      <td>132.0</td>\n      <td>1</td>\n    </tr>\n    <tr>\n      <th>4</th>\n      <td>4</td>\n      <td>5.8</td>\n      <td>142.0</td>\n      <td>0</td>\n    </tr>\n  </tbody>\n</table>\n</div>"
     },
     "metadata": {},
     "execution_count": 22
    }
   ],
   "source": [
    "df = pd.read_csv(\"placement.csv\", encoding='utf-8', encoding_errors='replace')\n",
    "df.head()"
   ]
  },
  {
   "source": [
    "### 14.Handling Dates\n",
    "Use parse_dates for automatic date parsing.\n",
    "Custom date format: Use date_parser with strptime.\n",
    "Handle inconsistent dates by setting errors='coerce' in pd.to_datetime()."
   ],
   "cell_type": "markdown",
   "metadata": {}
  },
  {
   "cell_type": "code",
   "execution_count": 28,
   "metadata": {},
   "outputs": [
    {
     "output_type": "execute_result",
     "data": {
      "text/plain": [
       "   Unnamed: 0  cgpa     iq  placement\n",
       "0           0   6.8  123.0          1\n",
       "1           1   5.9  106.0          0\n",
       "2           2   5.3  121.0          0\n",
       "3           3   7.4  132.0          1\n",
       "4           4   5.8  142.0          0"
      ],
      "text/html": "<div>\n<style scoped>\n    .dataframe tbody tr th:only-of-type {\n        vertical-align: middle;\n    }\n\n    .dataframe tbody tr th {\n        vertical-align: top;\n    }\n\n    .dataframe thead th {\n        text-align: right;\n    }\n</style>\n<table border=\"1\" class=\"dataframe\">\n  <thead>\n    <tr style=\"text-align: right;\">\n      <th></th>\n      <th>Unnamed: 0</th>\n      <th>cgpa</th>\n      <th>iq</th>\n      <th>placement</th>\n    </tr>\n  </thead>\n  <tbody>\n    <tr>\n      <th>0</th>\n      <td>0</td>\n      <td>6.8</td>\n      <td>123.0</td>\n      <td>1</td>\n    </tr>\n    <tr>\n      <th>1</th>\n      <td>1</td>\n      <td>5.9</td>\n      <td>106.0</td>\n      <td>0</td>\n    </tr>\n    <tr>\n      <th>2</th>\n      <td>2</td>\n      <td>5.3</td>\n      <td>121.0</td>\n      <td>0</td>\n    </tr>\n    <tr>\n      <th>3</th>\n      <td>3</td>\n      <td>7.4</td>\n      <td>132.0</td>\n      <td>1</td>\n    </tr>\n    <tr>\n      <th>4</th>\n      <td>4</td>\n      <td>5.8</td>\n      <td>142.0</td>\n      <td>0</td>\n    </tr>\n  </tbody>\n</table>\n</div>"
     },
     "metadata": {},
     "execution_count": 28
    }
   ],
   "source": [
    "import pandas as pd\n",
    "pd.read_csv(\"Drug_Use_Data_from_Selected_Hospitals.csv\")\n",
    "df.head()"
   ]
  },
  {
   "source": [
    "### 15.Converters"
   ],
   "cell_type": "markdown",
   "metadata": {}
  },
  {
   "source": [
    "### 16.Loading a huge dataset in Chunks"
   ],
   "cell_type": "markdown",
   "metadata": {}
  },
  {
   "cell_type": "code",
   "execution_count": null,
   "metadata": {},
   "outputs": [],
   "source": []
  }
 ]
}
